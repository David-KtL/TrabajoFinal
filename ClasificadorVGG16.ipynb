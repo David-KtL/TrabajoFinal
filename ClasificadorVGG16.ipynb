{
 "cells": [
  {
   "cell_type": "code",
   "execution_count": 14,
   "id": "998af4f7",
   "metadata": {},
   "outputs": [],
   "source": [
    "import sys\n",
    "import os\n",
    "from keras.preprocessing.image import ImageDataGenerator\n",
    "from keras import optimizers\n",
    "from keras.models import Sequential\n",
    "from keras.layers import Dropout, Flatten, Dense, Activation\n",
    "from keras.layers import  Convolution2D, MaxPooling2D\n",
    "from keras import backend as K\n",
    "from keras import applications"
   ]
  },
  {
   "cell_type": "code",
   "execution_count": 33,
   "id": "69856217",
   "metadata": {},
   "outputs": [],
   "source": [
    "def modelo():\n",
    "    vgg=applications.vgg16.VGG16()\n",
    "    cnn=Sequential()\n",
    "    for capa in vgg.layers:\n",
    "        cnn.add(capa)\n",
    "    cnn.layers.pop()\n",
    "    for layer in cnn.layers:\n",
    "        layer.trainable=False\n",
    "    cnn.add(Dense(7,activation='softmax'))   \n",
    "    return cnn"
   ]
  },
  {
   "cell_type": "code",
   "execution_count": 34,
   "id": "c8034d86",
   "metadata": {},
   "outputs": [],
   "source": [
    "K.clear_session()"
   ]
  },
  {
   "cell_type": "code",
   "execution_count": 35,
   "id": "d25a7c6a",
   "metadata": {},
   "outputs": [],
   "source": [
    "data_entrenamiento = 'C:/Project/data/train'\n",
    "data_validacion = 'C:/Project/data/test'"
   ]
  },
  {
   "cell_type": "code",
   "execution_count": 44,
   "id": "9a09488f",
   "metadata": {},
   "outputs": [],
   "source": [
    "\"\"\"\n",
    "Parameters\n",
    "\"\"\"\n",
    "epocas=20\n",
    "longitud, altura = 150, 150\n",
    "batch_size = 32\n",
    "pasos = 50\n",
    "validation_steps = 300\n",
    "filtrosConv1 = 32\n",
    "filtrosConv2 = 64\n",
    "tamano_filtro1 = (3, 3)\n",
    "tamano_filtro2 = (2, 2)\n",
    "tamano_pool = (2, 2)\n",
    "clases = 7\n",
    "lr = 0.0004"
   ]
  },
  {
   "cell_type": "code",
   "execution_count": 45,
   "id": "8906b297",
   "metadata": {},
   "outputs": [
    {
     "name": "stdout",
     "output_type": "stream",
     "text": [
      "Found 1633 images belonging to 7 classes.\n",
      "Found 809 images belonging to 7 classes.\n"
     ]
    }
   ],
   "source": [
    "##Preparamos nuestras imagenes\n",
    "\n",
    "entrenamiento_datagen = ImageDataGenerator(\n",
    "    rescale=1. / 255,\n",
    "    shear_range=0.2,\n",
    "    zoom_range=0.2,\n",
    "    horizontal_flip=True)\n",
    "\n",
    "test_datagen = ImageDataGenerator(rescale=1. / 255)\n",
    "\n",
    "entrenamiento_generador = entrenamiento_datagen.flow_from_directory(\n",
    "    data_entrenamiento,\n",
    "    target_size=(altura, longitud),\n",
    "    batch_size=batch_size,\n",
    "    class_mode='categorical')\n",
    "\n",
    "validacion_generador = test_datagen.flow_from_directory(\n",
    "    data_validacion,\n",
    "    target_size=(altura, longitud),\n",
    "    batch_size=batch_size,\n",
    "    class_mode='categorical')"
   ]
  },
  {
   "cell_type": "code",
   "execution_count": 46,
   "id": "0ff5e66a",
   "metadata": {},
   "outputs": [],
   "source": [
    "cnn = modelo()"
   ]
  },
  {
   "cell_type": "code",
   "execution_count": 47,
   "id": "012d3a90",
   "metadata": {},
   "outputs": [],
   "source": [
    "cnn.compile(loss='categorical_crossentropy',\n",
    "            optimizer=optimizers.Adam(learning_rate=lr),\n",
    "            metrics=['accuracy'])"
   ]
  },
  {
   "cell_type": "code",
   "execution_count": null,
   "id": "907deb9a",
   "metadata": {},
   "outputs": [],
   "source": [
    "cnn.fit(\n",
    "    entrenamiento_generador,\n",
    "    steps_per_epoch=pasos,\n",
    "    epochs=epocas,\n",
    "    validation_data=validacion_generador,\n",
    "    validation_steps=validation_steps)"
   ]
  },
  {
   "cell_type": "code",
   "execution_count": null,
   "id": "f592cc35",
   "metadata": {},
   "outputs": [],
   "source": [
    "target_dir = './modelo/'\n",
    "if not os.path.exists(target_dir):\n",
    "  os.mkdir(target_dir)\n",
    "cnn.save('./modelo/modeloVGG16.h5')\n",
    "cnn.save_weights('./modelo1/pesosVGG16.h5')"
   ]
  },
  {
   "cell_type": "code",
   "execution_count": null,
   "id": "688f769a",
   "metadata": {},
   "outputs": [],
   "source": []
  }
 ],
 "metadata": {
  "kernelspec": {
   "display_name": "Python 3 (ipykernel)",
   "language": "python",
   "name": "python3"
  },
  "language_info": {
   "codemirror_mode": {
    "name": "ipython",
    "version": 3
   },
   "file_extension": ".py",
   "mimetype": "text/x-python",
   "name": "python",
   "nbconvert_exporter": "python",
   "pygments_lexer": "ipython3",
   "version": "3.9.7"
  }
 },
 "nbformat": 4,
 "nbformat_minor": 5
}
