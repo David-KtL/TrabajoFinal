{
 "cells": [
  {
   "cell_type": "code",
   "execution_count": 2,
   "id": "ecf1ae4f",
   "metadata": {},
   "outputs": [],
   "source": [
    "from sklearn.metrics import confusion_matrix, f1_score, roc_curve, precision_score, recall_score, accuracy_score, roc_auc_score\n",
    "from sklearn import metrics\n",
    "from mlxtend.plotting import plot_confusion_matrix\n",
    "from keras.models import load_model\n",
    "from keras.preprocessing.image import ImageDataGenerator \n",
    "import numpy as np\n",
    "import matplotlib.pyplot as plt\n",
    "%matplotlib inline"
   ]
  },
  {
   "cell_type": "code",
   "execution_count": 3,
   "id": "9d35be76",
   "metadata": {},
   "outputs": [],
   "source": [
    "width_shape = 150\n",
    "height_shape = 150\n",
    "batch_size = 32 "
   ]
  },
  {
   "cell_type": "code",
   "execution_count": 4,
   "id": "e75e1cab",
   "metadata": {},
   "outputs": [],
   "source": [
    "names = ['Class2','Class3','Class4','Class5','Class6','Class7','Class8']"
   ]
  },
  {
   "cell_type": "code",
   "execution_count": 5,
   "id": "d77bab06",
   "metadata": {},
   "outputs": [],
   "source": [
    "test_data_dir = 'C:/Project/data/test'"
   ]
  },
  {
   "cell_type": "code",
   "execution_count": 6,
   "id": "d87db11b",
   "metadata": {},
   "outputs": [],
   "source": [
    "test_datagen = ImageDataGenerator(rescale=1. / 255)"
   ]
  },
  {
   "cell_type": "code",
   "execution_count": 7,
   "id": "724a766e",
   "metadata": {},
   "outputs": [
    {
     "name": "stdout",
     "output_type": "stream",
     "text": [
      "Found 809 images belonging to 7 classes.\n"
     ]
    }
   ],
   "source": [
    "entrenamiento_generador = test_datagen.flow_from_directory(\n",
    "    test_data_dir,\n",
    "    target_size=(width_shape, height_shape),\n",
    "    batch_size=batch_size,\n",
    "    class_mode='categorical',\n",
    "    shuffle=False)"
   ]
  },
  {
   "cell_type": "code",
   "execution_count": 8,
   "id": "e332a8a8",
   "metadata": {},
   "outputs": [],
   "source": [
    "modelo = './modelo/modelo.h5'\n",
    "pesos_modelo = './modelo/pesos.h5'\n",
    "custom_Model= load_model(modelo)"
   ]
  },
  {
   "cell_type": "code",
   "execution_count": 9,
   "id": "dcba220c",
   "metadata": {},
   "outputs": [
    {
     "name": "stdout",
     "output_type": "stream",
     "text": [
      "26/26 [==============================] - 5s 204ms/step\n"
     ]
    }
   ],
   "source": [
    "predictions = custom_Model.predict(entrenamiento_generador)"
   ]
  },
  {
   "cell_type": "code",
   "execution_count": 10,
   "id": "59ba4e07",
   "metadata": {},
   "outputs": [],
   "source": [
    "y_pred = np.argmax(predictions, axis=1)\n",
    "y_real = entrenamiento_generador.classes"
   ]
  },
  {
   "cell_type": "code",
   "execution_count": 11,
   "id": "65c858db",
   "metadata": {},
   "outputs": [],
   "source": [
    "matc=confusion_matrix(y_real, y_pred)"
   ]
  },
  {
   "cell_type": "code",
   "execution_count": 12,
   "id": "548ec5c6",
   "metadata": {},
   "outputs": [
    {
     "data": {
      "text/plain": [
       "(<Figure size 648x648 with 1 Axes>,\n",
       " <AxesSubplot:xlabel='predicted label', ylabel='true label'>)"
      ]
     },
     "execution_count": 12,
     "metadata": {},
     "output_type": "execute_result"
    },
    {
     "data": {
      "image/png": "[encoded data removed]",
      "text/plain": [
       "<Figure size 648x648 with 1 Axes>"
      ]
     },
     "metadata": {
      "needs_background": "light"
     },
     "output_type": "display_data"
    }
   ],
   "source": [
    "plot_confusion_matrix(conf_mat=matc, figsize=(9,9), class_names = names, show_normed=False)"
   ]
  },
  {
   "cell_type": "code",
   "execution_count": 13,
   "id": "cfbed687",
   "metadata": {},
   "outputs": [
    {
     "name": "stdout",
     "output_type": "stream",
     "text": [
      "              precision    recall  f1-score   support\n",
      "\n",
      "           0     0.0000    0.0000    0.0000        48\n",
      "           1     0.2888    0.6907    0.4073        97\n",
      "           2     0.4059    0.9111    0.5616        45\n",
      "           3     0.9359    0.6362    0.7575       459\n",
      "           4     1.0000    0.7895    0.8824        19\n",
      "           5     0.5775    0.7193    0.6406       114\n",
      "           6     0.6667    0.1481    0.2424        27\n",
      "\n",
      "    accuracy                         0.6193       809\n",
      "   macro avg     0.5535    0.5564    0.4988       809\n",
      "weighted avg     0.7153    0.6193    0.6289       809\n",
      "\n"
     ]
    }
   ],
   "source": [
    "print(metrics.classification_report(y_real,y_pred, digits = 4))"
   ]
  },
  {
   "cell_type": "code",
   "execution_count": null,
   "id": "379049d7",
   "metadata": {},
   "outputs": [],
   "source": []
  }
 ],
 "metadata": {
  "kernelspec": {
   "display_name": "Python 3 (ipykernel)",
   "language": "python",
   "name": "python3"
  },
  "language_info": {
   "codemirror_mode": {
    "name": "ipython",
    "version": 3
   },
   "file_extension": ".py",
   "mimetype": "text/x-python",
   "name": "python",
   "nbconvert_exporter": "python",
   "pygments_lexer": "ipython3",
   "version": "3.9.7"
  }
 },
 "nbformat": 4,
 "nbformat_minor": 5
}
