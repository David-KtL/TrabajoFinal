{
 "cells": [
  {
   "cell_type": "code",
   "execution_count": 20,
   "id": "432ab4eb",
   "metadata": {},
   "outputs": [],
   "source": [
    "import numpy as np\n",
    "from tensorflow.keras.preprocessing.image import load_img, img_to_array\n",
    "from keras.models import load_model"
   ]
  },
  {
   "cell_type": "code",
   "execution_count": 21,
   "id": "a36c1b06",
   "metadata": {},
   "outputs": [],
   "source": [
    "longitud, altura = 150, 150\n",
    "modelo = './modelo/modelo.h5'\n",
    "pesos_modelo = './modelo/pesos.h5'\n",
    "cnn = load_model(modelo)\n",
    "cnn.load_weights(pesos_modelo)"
   ]
  },
  {
   "cell_type": "code",
   "execution_count": 22,
   "id": "cb3af034",
   "metadata": {},
   "outputs": [],
   "source": [
    "def predict(file):\n",
    "  x = load_img(file, target_size=(longitud, altura))\n",
    "  x = img_to_array(x)\n",
    "  x = np.expand_dims(x, axis=0)\n",
    "  array = cnn.predict(x)\n",
    "  result = array[0]\n",
    "  answer = np.argmax(result)\n",
    "  print(answer)\n",
    "  if answer == 0:\n",
    "    print(\"pred: Class2\")\n",
    "  elif answer == 1:\n",
    "    print(\"pred: Class3\")\n",
    "  elif answer == 2:\n",
    "    print(\"pred: Class4\")\n",
    "  elif answer == 3:\n",
    "    print(\"pred: Class5\")\n",
    "  elif answer == 4:\n",
    "    print(\"pred: Class6\")\n",
    "  elif answer == 5:\n",
    "    print(\"pred: Class7\")\n",
    "  elif answer == 6:\n",
    "    print(\"pred: Class8\")\n",
    "  return answer"
   ]
  },
  {
   "cell_type": "code",
   "execution_count": 24,
   "id": "6b63a63b",
   "metadata": {},
   "outputs": [
    {
     "name": "stdout",
     "output_type": "stream",
     "text": [
      "1/1 [==============================] - 0s 31ms/step\n",
      "1\n",
      "pred: Class3\n"
     ]
    },
    {
     "data": {
      "text/plain": [
       "1"
      ]
     },
     "execution_count": 24,
     "metadata": {},
     "output_type": "execute_result"
    }
   ],
   "source": [
    "predict(\"C:\\\\Project\\\\data\\\\test\\\\CLASS_03\\\\10-CAPTURE_20220421_103151_827.png\")"
   ]
  },
  {
   "cell_type": "code",
   "execution_count": 28,
   "id": "0541e48e",
   "metadata": {},
   "outputs": [
    {
     "name": "stdout",
     "output_type": "stream",
     "text": [
      "1/1 [==============================] - 0s 27ms/step\n",
      "2\n",
      "pred: Class4\n"
     ]
    },
    {
     "data": {
      "text/plain": [
       "2"
      ]
     },
     "execution_count": 28,
     "metadata": {},
     "output_type": "execute_result"
    }
   ],
   "source": [
    "predict(\"C:\\\\Project\\\\data\\\\test\\\\CLASS_04\\\\17-CAPTURE_20220426_173750_910.png\")"
   ]
  },
  {
   "cell_type": "code",
   "execution_count": 29,
   "id": "e1d46a89",
   "metadata": {},
   "outputs": [
    {
     "name": "stdout",
     "output_type": "stream",
     "text": [
      "1/1 [==============================] - 0s 35ms/step\n",
      "3\n",
      "pred: Class5\n"
     ]
    },
    {
     "data": {
      "text/plain": [
       "3"
      ]
     },
     "execution_count": 29,
     "metadata": {},
     "output_type": "execute_result"
    }
   ],
   "source": [
    "predict(\"C:\\\\Project\\\\data\\\\test\\\\CLASS_05\\\\06-CAPTURE_20220620_064109_992.png\")"
   ]
  },
  {
   "cell_type": "code",
   "execution_count": 38,
   "id": "0da33d3d",
   "metadata": {},
   "outputs": [
    {
     "name": "stdout",
     "output_type": "stream",
     "text": [
      "1/1 [==============================] - 0s 28ms/step\n",
      "5\n",
      "pred: Class7\n"
     ]
    },
    {
     "data": {
      "text/plain": [
       "5"
      ]
     },
     "execution_count": 38,
     "metadata": {},
     "output_type": "execute_result"
    }
   ],
   "source": [
    "predict(\"C:\\\\Project\\\\data\\\\test\\\\CLASS_07\\\\09-CAPTURE_20220421_095341_747.png\")"
   ]
  },
  {
   "cell_type": "code",
   "execution_count": null,
   "id": "1934284e",
   "metadata": {},
   "outputs": [],
   "source": []
  },
  {
   "cell_type": "code",
   "execution_count": null,
   "id": "cbfb77cf",
   "metadata": {},
   "outputs": [],
   "source": []
  }
 ],
 "metadata": {
  "kernelspec": {
   "display_name": "Python 3 (ipykernel)",
   "language": "python",
   "name": "python3"
  },
  "language_info": {
   "codemirror_mode": {
    "name": "ipython",
    "version": 3
   },
   "file_extension": ".py",
   "mimetype": "text/x-python",
   "name": "python",
   "nbconvert_exporter": "python",
   "pygments_lexer": "ipython3",
   "version": "3.9.7"
  }
 },
 "nbformat": 4,
 "nbformat_minor": 5
}
